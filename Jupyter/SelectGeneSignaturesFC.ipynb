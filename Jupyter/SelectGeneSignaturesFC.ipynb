{
 "cells": [
  {
   "cell_type": "code",
   "execution_count": null,
   "metadata": {
    "collapsed": true
   },
   "outputs": [],
   "source": [
    "import pandas as pd\n",
    "import os\n",
    "import re\n",
    "import numpy as np\n",
    "import matplotlib.pyplot as plt"
   ]
  },
  {
   "cell_type": "markdown",
   "metadata": {},
   "source": [
    "### FPKM data file\n",
    "File format \n",
    "\n",
    "Columns: Genes and last column with sample labels\n",
    "\n",
    "rows: samples \n",
    "\n",
    "values: FPKM\n"
   ]
  },
  {
   "cell_type": "code",
   "execution_count": null,
   "metadata": {},
   "outputs": [],
   "source": [
    "datafile = '/path/to/FPKM_datafile.csv'\n",
    "data = pd.read_csv(datafile, index_col=0)\n",
    "data.head()"
   ]
  },
  {
   "cell_type": "code",
   "execution_count": null,
   "metadata": {},
   "outputs": [],
   "source": [
    "class Select_GS_by_FC:\n",
    "    \n",
    "    def __init__(self, data, shap_dir, outdir, mfreq=5, fc = -2, prefix='DNN', suffix='_SHAP_Top_20.txt'):\n",
    "        self.data = data \n",
    "        self.shap_dir = shap_dir\n",
    "        self.outdir = outdir\n",
    "        self.mfreq = mfreq\n",
    "        self.fc = fc\n",
    "        self.prefix = prefix\n",
    "        self.suffix = suffix\n",
    "    \n",
    "    \n",
    "    # combine all top genes from different cancers\n",
    "    def get_dataframe(self):\n",
    "        \n",
    "        topN = []\n",
    "        files = [f for f in os.listdir(self.shap_dir) if f.startswith(self.prefix)]\n",
    "\n",
    "        for f in files:\n",
    "            model = re.sub(self.suffix,'',f)\n",
    "            df = pd.read_csv(os.path.join(self.shap_dir, f), index_col=0)\n",
    "            df.columns = ['label','gene_id','shap']\n",
    "            df['models'] = model\n",
    "            topN.append(df)\n",
    "\n",
    "        topN = pd.concat(topN, axis=0).groupby(['label', 'gene_id'])['models'].count()\n",
    "        topN = topN.reset_index()\n",
    "\n",
    "        # applying frequency threshold\n",
    "        topN = topN[topN['models'] >= self.mfreq]\n",
    "        topN['mexp'] = -1\n",
    "        topN['mcount'] = -10\n",
    "    \n",
    "        return topN\n",
    "    \n",
    "    # get median FPKM values to compare genes across cancer types \n",
    "    # Log2(FC) \n",
    "    \n",
    "    def get_enrichment_count_by_fc(self, gene, control):\n",
    "        \n",
    "        # this method returns\n",
    "        # number of cancers showing enrichment for given gene\n",
    "        # median expression for a given cancer\n",
    "        \n",
    "        gx = self.data[[gene, 'label']]\n",
    "        gx = gx.groupby('label')[gene].median()\n",
    "        gx = pd.DataFrame(gx)\n",
    "        gx.columns = ['exp']\n",
    "         \n",
    "        # median expression \n",
    "        mexp = gx.loc[control, 'exp']\n",
    "        \n",
    "        # gene should have median expression greateer than 10 fpkm in control \n",
    "        if mexp < 10:\n",
    "            return -1, mexp\n",
    "    \n",
    "    \n",
    "        # remove all label with median expression less than 10\n",
    "        gx = gx[gx['exp'] >= 10] \n",
    "        \n",
    "        # calculating fold change \n",
    "        # then counting cancers with overexpression  \n",
    "        fc_count = 0\n",
    "        \n",
    "        for l in gx.index.tolist():\n",
    "            \n",
    "            if l != control:\n",
    "                c = gx.loc[control,'exp']\n",
    "                t = gx.loc[l, 'exp']\n",
    "                \n",
    "                # fold change  \n",
    "                fc = t/c\n",
    "                fc = np.log2(fc)\n",
    "\n",
    "                if fc >= self.fc :\n",
    "                    fc_count += 1\n",
    "            \n",
    "        # add 1 for self enrichment \n",
    "        fc_count += 1\n",
    "        \n",
    "        return fc_count , mexp\n",
    "    \n",
    "    def get_gene_signatures(self):\n",
    "        x = self.get_dataframe()\n",
    "        for i, gene_id in enumerate(x.gene_id):\n",
    "            control = x.iloc[i,0]\n",
    "            mcount, mexp = self.get_enrichment_count_by_fc(gene_id, control)\n",
    "            x.iloc[i, 3] = mexp\n",
    "            x.iloc[i, 4] = mcount\n",
    "        \n",
    "        x = x[x.mcount != -1]\n",
    "        x = x[x.mcount <= 5]\n",
    "        x = x.sort_values(['label','mcount', 'mexp'], ascending=[True, True, False])\n",
    "        \n",
    "        print('Gene Signatures: ', len(x.gene_id.unique()) )\n",
    "        x.to_csv(os.path.join(self.outdir, 'IterX_GS_FC.csv'))\n",
    "\n",
    "        return x\n",
    "\n",
    "\n",
    "\n"
   ]
  },
  {
   "cell_type": "code",
   "execution_count": null,
   "metadata": {},
   "outputs": [],
   "source": [
    "# folder of files containing top 20 gene per cancer from all models \n",
    "datadir = '/path/to/datadir'\n",
    "\n",
    "# Output folder \n",
    "outdir = '/path/to/outputdir'\n",
    "\n",
    "gs_selection = Select_GS_by_FC(data, datadir, outdir)\n"
   ]
  },
  {
   "cell_type": "code",
   "execution_count": null,
   "metadata": {},
   "outputs": [],
   "source": [
    "mx = gs_selection.get_gene_signatures()"
   ]
  }
 ],
 "metadata": {
  "kernelspec": {
   "display_name": "Python 2",
   "language": "python",
   "name": "python2"
  },
  "language_info": {
   "codemirror_mode": {
    "name": "ipython",
    "version": 2
   },
   "file_extension": ".py",
   "mimetype": "text/x-python",
   "name": "python",
   "nbconvert_exporter": "python",
   "pygments_lexer": "ipython2",
   "version": "2.7.6"
  }
 },
 "nbformat": 4,
 "nbformat_minor": 0
}
