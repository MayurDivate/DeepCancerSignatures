{
 "cells": [
  {
   "cell_type": "code",
   "execution_count": null,
   "metadata": {
    "collapsed": true
   },
   "outputs": [],
   "source": [
    "# imports\n",
    "\n",
    "import os\n",
    "import numpy as np \n",
    "import pandas as pd"
   ]
  },
  {
   "cell_type": "code",
   "execution_count": null,
   "metadata": {},
   "outputs": [],
   "source": [
    "\n",
    "class shap_postprocessing:\n",
    "    \n",
    "    def __init__(self, root_dir, infile, colfile, rowfile):\n",
    "        self.root_dir = root_dir\n",
    "        self.infile = infile\n",
    "        os.chdir(root_dir)\n",
    "        self.colfile = colfile\n",
    "        self.rowfile = rowfile\n",
    "                \n",
    "    def get_shap_abs_means(self):\n",
    "\n",
    "        shap_values = np.load(self.infile) # ['arr_0']\n",
    "        print(\"Shap value shape: \", shap_values.shape)\n",
    "        \n",
    "        shap_means = pd.DataFrame(np.abs(shap_values).mean(axis=1))\n",
    "        \n",
    "        shap_means.columns = self.get_shap_col_ids()\n",
    "        shap_means.index = self.get_shap_row_ids()\n",
    "        \n",
    "        shap_means.index.name = 'class'\n",
    "        \n",
    "        return shap_means\n",
    "    \n",
    "    def get_shap_col_ids(self):\n",
    "        return [c.rstrip() for c in open(self.colfile)]\n",
    "    \n",
    "    def get_shap_row_ids(self):\n",
    "        return [c.rstrip() for c in open(self.rowfile)]\n",
    "    \n",
    "        \n",
    "    def get_top_n_genes(self, shap_df, outfile, n):\n",
    "        print(outfile)\n",
    "        \n",
    "        shap_df['cls'] = shap_df.index\n",
    "        meltedf = pd.melt(shap_df, id_vars=['cls'])\n",
    "    \n",
    "        topN_dfs = []\n",
    "    \n",
    "        for cls in shap_df.index.to_list():\n",
    "            topN_dfs.append(meltedf[meltedf['cls'] == cls].sort_values(['cls', 'value'], ascending=False).iloc[:n,:])\n",
    "    \n",
    "        topN = pd.concat(topN_dfs, axis=0)\n",
    "        topN.to_csv(outfile)\n",
    "        \n",
    "        "
   ]
  },
  {
   "cell_type": "code",
   "execution_count": null,
   "metadata": {},
   "outputs": [],
   "source": [
    "class ShapRunner:\n",
    "\n",
    "    def __init__(self, shap_dir, outdir, colfile, rowfile):\n",
    "        # folder containing Merged Shap Chunk file from all 10 models\n",
    "        self.shap_dir = shap_dir\n",
    "        # output folder to store top genes \n",
    "        self.outdir = outdir\n",
    "        # File containing genes in the same order as model input \n",
    "        self.colfile = colfile\n",
    "        # Test data sample labels in the same order as they used in testing \n",
    "        self.rowfile = rowfile\n",
    "        \n",
    "\n",
    "    def get_shap_files(self):\n",
    "        print(self.shap_dir)\n",
    "    \n",
    "        infiles = []\n",
    "    \n",
    "        for f in os.listdir(self.shap_dir):\n",
    "            if f.endswith('npy') and f.startswith('DNN'):\n",
    "                infiles.append(os.path.join(shap_dir ,f))\n",
    "                \n",
    "        return infiles\n",
    "    \n",
    "\n",
    "    def go(self, n):\n",
    "        \n",
    "        for infileX in self.get_shap_files():\n",
    "        \n",
    "            print('-------------*****----------------')\n",
    "            outf = os.path.join(self.outdir, os.path.basename(infileX))\n",
    "            fsx = '_Top_'+str(n)+'.txt'\n",
    "            topnfile = str(outf).replace('.npy',fsx)\n",
    "            outfile = str(outf).replace('npy','txt')\n",
    "            shap_obj = shap_postprocessing(self.shap_dir, infileX, self.colfile, self.rowfile)\n",
    "            shap_df = shap_obj.get_shap_abs_means()\n",
    "            shap_obj.get_top_n_genes(shap_df, topnfile, n)\n",
    "    \n",
    "            print('--***------------------------***--')\n",
    "    \n",
    "\n"
   ]
  },
  {
   "cell_type": "markdown",
   "metadata": {},
   "source": [
    "#### In order to run this program \n",
    "Please copy all the Merged Shap Chunk files into one folder.\n",
    "You will need 4 inputs to run this.\n",
    "1. path folder containing Merged Shap Chunk file from all 10 models (shap_dir)\n",
    "2. output folder to store top genes (outdir)\n",
    "3. file containing genes in the same order as model input (shap_genes)\n",
    "4. test data sample labels in the same order as they used in testing (shap_labels)"
   ]
  },
  {
   "cell_type": "code",
   "execution_count": null,
   "metadata": {},
   "outputs": [],
   "source": [
    "shap_dir = '/path/to/shap_dir'\n",
    "outdir = '/path/to/outputdir/'\n",
    "shap_genes  = '/path/to/shap_genes'\n",
    "shap_labels = '/path/to/shap/labels'\n",
    "\n",
    "ShapRunner(shap_dir, outdir, shap_genes, shap_labels).go(20)\n",
    "\n"
   ]
  }
 ],
 "metadata": {
  "kernelspec": {
   "display_name": "Python 2",
   "language": "python",
   "name": "python2"
  },
  "language_info": {
   "codemirror_mode": {
    "name": "ipython",
    "version": 2
   },
   "file_extension": ".py",
   "mimetype": "text/x-python",
   "name": "python",
   "nbconvert_exporter": "python",
   "pygments_lexer": "ipython2",
   "version": "2.7.6"
  }
 },
 "nbformat": 4,
 "nbformat_minor": 0
}
