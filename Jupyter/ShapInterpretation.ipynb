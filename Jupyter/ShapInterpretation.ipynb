{
 "cells": [
  {
   "cell_type": "code",
   "execution_count": null,
   "metadata": {
    "collapsed": true
   },
   "outputs": [],
   "source": [
    "\"\"\"\n",
    "This code takes nearly 24 hours to complete.\n",
    "Almost 2 and half hours for one model\n",
    "\"\"\"\n",
    "\n",
    "# import required packages\n",
    "\n",
    "import shap\n",
    "import tensorflow as tf\n",
    "import os\n",
    "import pandas as pd\n",
    "import numpy as np\n",
    "import time"
   ]
  },
  {
   "cell_type": "code",
   "execution_count": null,
   "metadata": {},
   "outputs": [],
   "source": [
    "def RunShap(infile, outfile, model_file):\n",
    "    # time when started \n",
    "    st = time.time()\n",
    "    \n",
    "    # load model from the h5 file file \n",
    "    model = tf.keras.models.load_model(model_file)\n",
    "    \n",
    "    # load test data chunk\n",
    "    testX = pd.read_csv(infile, sep=',', index_col=0)\n",
    "    # droping last columns (labels)\n",
    "    testX = testX.iloc[:, :-1] \n",
    "    testX = testX.to_numpy('float64')\n",
    "        \n",
    "    # run DeepExplaniner from shap pacage on the chunk \n",
    "    explainer_shap = shap.DeepExplainer(model=model, data=testX)\n",
    "    shap_values = explainer_shap.shap_values(X=testX)\n",
    "    np_shap = np.asarray(shap_values)\n",
    "    # save shap values in a file \n",
    "    np.save(outfile, np_shap)\n",
    "    \n",
    "    # printing time required\n",
    "    et = time.time()\n",
    "    print('Time: ',et-st)\n"
   ]
  },
  {
   "cell_type": "code",
   "execution_count": null,
   "metadata": {},
   "outputs": [],
   "source": [
    "# loop through 10 models\n",
    "i = 1\n",
    "\n",
    "while i < 11:\n",
    "    \n",
    "    # folder containing trained models and other data such as test data chunks \n",
    "    root_dir = '/path/to/models'\n",
    "    \n",
    "    # root_dir should have folder like DNN_1 , DNN_2 ... DNN_10  \n",
    "    mname = \"DNN_\"+str(i)\n",
    "    mdir = os.path.join(root_dir, mname)\n",
    "    \n",
    "    # every fold should h5 (HDF) model file \n",
    "    mfile = os.path.join(mdir, 'FPKM_5_MLP.h5')\n",
    "    \n",
    "    print('--- --- --- --- --- --- --- --- ---')\n",
    "    print('Resdir:', mname)\n",
    "    print('Model: ', mfile)\n",
    "    \n",
    "    # collect test data chunks from the same folder \n",
    "    # Our chunks file names starts with 'test' \n",
    "    # If you have changed the prefix please fix it in the code below\n",
    "    tfiles = [f for f in os.listdir(mdir) if f.startswith('test')]\n",
    "    tfiles.sort()\n",
    "\n",
    "    for f in tfiles:        \n",
    "        infile = os.path.join(mdir,f)\n",
    "        outfile = os.path.join(mdir,\"Shap_\"+f)\n",
    "        print(f)\n",
    "        # shap interpretation on the chunk \n",
    "        RunShap(infile, outfile, mfile)\n",
    "\n",
    "    i += 1\n",
    "        \n",
    "    print('--- --- --- --- ### --- --- --- ---')\n"
   ]
  }
 ],
 "metadata": {
  "kernelspec": {
   "display_name": "Python 2",
   "language": "python",
   "name": "python2"
  },
  "language_info": {
   "codemirror_mode": {
    "name": "ipython",
    "version": 2
   },
   "file_extension": ".py",
   "mimetype": "text/x-python",
   "name": "python",
   "nbconvert_exporter": "python",
   "pygments_lexer": "ipython2",
   "version": "2.7.6"
  }
 },
 "nbformat": 4,
 "nbformat_minor": 0
}
