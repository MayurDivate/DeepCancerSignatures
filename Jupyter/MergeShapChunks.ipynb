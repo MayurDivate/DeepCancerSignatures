{
 "cells": [
  {
   "cell_type": "code",
   "execution_count": null,
   "metadata": {
    "collapsed": true
   },
   "outputs": [],
   "source": [
    "import numpy as np\n",
    "import os\n",
    "\n",
    "# folder containing output \n",
    "root_dir = '/Users/n10337547/Projects/10_Models'\n",
    "\n",
    "models = [os.path.join(root_dir, d) for d in os.listdir(root_dir) if d.startswith('DNN')]\n",
    "\n",
    "for model in models:\n",
    "    out = os.path.basename(model)\n",
    "    print(out)\n",
    "    output_file = os.path.join(model, out + '_SHAP.npy')\n",
    "\n",
    "    files = [f for f in os.listdir(model) if f.endswith('npy')]\n",
    "    files.sort()\n",
    "    npx = []\n",
    "\n",
    "    for f in files:\n",
    "        print(f)\n",
    "        npx.append(np.load(f))\n",
    "\n",
    "    npx = np.concatenate(npx, 1)\n",
    "    np.save(output_file, npx)\n",
    "    "
   ]
  }
 ],
 "metadata": {
  "kernelspec": {
   "display_name": "Python 2",
   "language": "python",
   "name": "python2"
  },
  "language_info": {
   "codemirror_mode": {
    "name": "ipython",
    "version": 2
   },
   "file_extension": ".py",
   "mimetype": "text/x-python",
   "name": "python",
   "nbconvert_exporter": "python",
   "pygments_lexer": "ipython2",
   "version": "2.7.6"
  }
 },
 "nbformat": 4,
 "nbformat_minor": 0
}
